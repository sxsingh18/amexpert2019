{
 "cells": [
  {
   "cell_type": "code",
   "execution_count": 1,
   "metadata": {
    "collapsed": true
   },
   "outputs": [],
   "source": [
    "#!pip install sklearn_pandas\n",
    "import pandas as pd\n",
    "import numpy as np\n",
    "import matplotlib.pyplot as plt\n",
    "from sklearn_pandas import CategoricalImputer\n",
    "import seaborn as sns\n",
    "import warnings\n",
    "warnings.filterwarnings('ignore')"
   ]
  },
  {
   "cell_type": "code",
   "execution_count": 2,
   "metadata": {
    "collapsed": true
   },
   "outputs": [],
   "source": [
    "train = pd.read_csv('C:/Users/shashi.singh/Downloads/train_AUpWtIz/train.csv')\n",
    "cust_demograph = pd.read_csv('C:/Users/shashi.singh/Downloads/train_AUpWtIz/customer_demographics.csv')\n",
    "cust_trans = pd.read_csv('C:/Users/shashi.singh/Downloads/train_AUpWtIz/customer_transaction_data.csv')\n",
    "coupon_item = pd.read_csv('C:/Users/shashi.singh/Downloads/train_AUpWtIz/coupon_item_mapping.csv')\n",
    "item_data = pd.read_csv('C:/Users/shashi.singh/Downloads/train_AUpWtIz/item_data.csv')\n",
    "camp_data = pd.read_csv('C:/Users/shashi.singh/Downloads/train_AUpWtIz/campaign_data.csv')\n",
    "test = pd.read_csv('C:/Users/shashi.singh/Downloads/test_QyjYwdj.csv')"
   ]
  },
  {
   "cell_type": "code",
   "execution_count": 3,
   "metadata": {},
   "outputs": [
    {
     "data": {
      "text/html": [
       "<div>\n",
       "<style scoped>\n",
       "    .dataframe tbody tr th:only-of-type {\n",
       "        vertical-align: middle;\n",
       "    }\n",
       "\n",
       "    .dataframe tbody tr th {\n",
       "        vertical-align: top;\n",
       "    }\n",
       "\n",
       "    .dataframe thead th {\n",
       "        text-align: right;\n",
       "    }\n",
       "</style>\n",
       "<table border=\"1\" class=\"dataframe\">\n",
       "  <thead>\n",
       "    <tr style=\"text-align: right;\">\n",
       "      <th></th>\n",
       "      <th>customer_id</th>\n",
       "      <th>age_range</th>\n",
       "      <th>marital_status</th>\n",
       "      <th>rented</th>\n",
       "      <th>family_size</th>\n",
       "      <th>no_of_children</th>\n",
       "      <th>income_bracket</th>\n",
       "    </tr>\n",
       "  </thead>\n",
       "  <tbody>\n",
       "    <tr>\n",
       "      <td>0</td>\n",
       "      <td>1</td>\n",
       "      <td>70+</td>\n",
       "      <td>Married</td>\n",
       "      <td>0</td>\n",
       "      <td>2</td>\n",
       "      <td>NaN</td>\n",
       "      <td>4</td>\n",
       "    </tr>\n",
       "    <tr>\n",
       "      <td>1</td>\n",
       "      <td>6</td>\n",
       "      <td>46-55</td>\n",
       "      <td>Married</td>\n",
       "      <td>0</td>\n",
       "      <td>2</td>\n",
       "      <td>NaN</td>\n",
       "      <td>5</td>\n",
       "    </tr>\n",
       "    <tr>\n",
       "      <td>2</td>\n",
       "      <td>7</td>\n",
       "      <td>26-35</td>\n",
       "      <td>NaN</td>\n",
       "      <td>0</td>\n",
       "      <td>3</td>\n",
       "      <td>1</td>\n",
       "      <td>3</td>\n",
       "    </tr>\n",
       "    <tr>\n",
       "      <td>3</td>\n",
       "      <td>8</td>\n",
       "      <td>26-35</td>\n",
       "      <td>NaN</td>\n",
       "      <td>0</td>\n",
       "      <td>4</td>\n",
       "      <td>2</td>\n",
       "      <td>6</td>\n",
       "    </tr>\n",
       "    <tr>\n",
       "      <td>4</td>\n",
       "      <td>10</td>\n",
       "      <td>46-55</td>\n",
       "      <td>Single</td>\n",
       "      <td>0</td>\n",
       "      <td>1</td>\n",
       "      <td>NaN</td>\n",
       "      <td>5</td>\n",
       "    </tr>\n",
       "  </tbody>\n",
       "</table>\n",
       "</div>"
      ],
      "text/plain": [
       "   customer_id age_range marital_status  rented family_size no_of_children  \\\n",
       "0            1       70+        Married       0           2            NaN   \n",
       "1            6     46-55        Married       0           2            NaN   \n",
       "2            7     26-35            NaN       0           3              1   \n",
       "3            8     26-35            NaN       0           4              2   \n",
       "4           10     46-55         Single       0           1            NaN   \n",
       "\n",
       "   income_bracket  \n",
       "0               4  \n",
       "1               5  \n",
       "2               3  \n",
       "3               6  \n",
       "4               5  "
      ]
     },
     "execution_count": 3,
     "metadata": {},
     "output_type": "execute_result"
    }
   ],
   "source": [
    "cust_demograph.head()"
   ]
  },
  {
   "cell_type": "code",
   "execution_count": 4,
   "metadata": {
    "collapsed": true,
    "scrolled": true
   },
   "outputs": [],
   "source": [
    "cust_demograph['marital_status'][cust_demograph['family_size']=='1'] = cust_demograph['marital_status'][cust_demograph['family_size']=='1'].fillna('Single')\n",
    "cust_demograph['marital_status'][cust_demograph['family_size']!='1'] = cust_demograph['marital_status'][cust_demograph['family_size']!='1'].fillna('Married')\n",
    "cust_demograph['no_of_children'][cust_demograph['family_size']== '1'] = 0\n",
    "cust_demograph['no_of_children'][cust_demograph['family_size']== '2'] = 0"
   ]
  },
  {
   "cell_type": "code",
   "execution_count": null,
   "metadata": {
    "collapsed": true
   },
   "outputs": [],
   "source": []
  },
  {
   "cell_type": "code",
   "execution_count": 5,
   "metadata": {
    "collapsed": true
   },
   "outputs": [],
   "source": [
    "cust_trans['item_price'] = (cust_trans['selling_price']-cust_trans['other_discount']-cust_trans['coupon_discount'])/cust_trans['quantity']\n",
    "item_price = cust_trans[['item_id','item_price']].groupby('item_id').mean().reset_index()"
   ]
  },
  {
   "cell_type": "code",
   "execution_count": 6,
   "metadata": {},
   "outputs": [
    {
     "data": {
      "text/html": [
       "<div>\n",
       "<style scoped>\n",
       "    .dataframe tbody tr th:only-of-type {\n",
       "        vertical-align: middle;\n",
       "    }\n",
       "\n",
       "    .dataframe tbody tr th {\n",
       "        vertical-align: top;\n",
       "    }\n",
       "\n",
       "    .dataframe thead th {\n",
       "        text-align: right;\n",
       "    }\n",
       "</style>\n",
       "<table border=\"1\" class=\"dataframe\">\n",
       "  <thead>\n",
       "    <tr style=\"text-align: right;\">\n",
       "      <th></th>\n",
       "      <th>coupon_id</th>\n",
       "      <th>item_id</th>\n",
       "      <th>brand</th>\n",
       "      <th>brand_type</th>\n",
       "      <th>category</th>\n",
       "      <th>item_price</th>\n",
       "    </tr>\n",
       "  </thead>\n",
       "  <tbody>\n",
       "    <tr>\n",
       "      <td>0</td>\n",
       "      <td>105</td>\n",
       "      <td>37</td>\n",
       "      <td>56</td>\n",
       "      <td>Local</td>\n",
       "      <td>Grocery</td>\n",
       "      <td>57.247381</td>\n",
       "    </tr>\n",
       "    <tr>\n",
       "      <td>1</td>\n",
       "      <td>6</td>\n",
       "      <td>37</td>\n",
       "      <td>56</td>\n",
       "      <td>Local</td>\n",
       "      <td>Grocery</td>\n",
       "      <td>57.247381</td>\n",
       "    </tr>\n",
       "    <tr>\n",
       "      <td>2</td>\n",
       "      <td>22</td>\n",
       "      <td>37</td>\n",
       "      <td>56</td>\n",
       "      <td>Local</td>\n",
       "      <td>Grocery</td>\n",
       "      <td>57.247381</td>\n",
       "    </tr>\n",
       "    <tr>\n",
       "      <td>3</td>\n",
       "      <td>31</td>\n",
       "      <td>37</td>\n",
       "      <td>56</td>\n",
       "      <td>Local</td>\n",
       "      <td>Grocery</td>\n",
       "      <td>57.247381</td>\n",
       "    </tr>\n",
       "    <tr>\n",
       "      <td>4</td>\n",
       "      <td>107</td>\n",
       "      <td>75</td>\n",
       "      <td>56</td>\n",
       "      <td>Local</td>\n",
       "      <td>Grocery</td>\n",
       "      <td>38.828485</td>\n",
       "    </tr>\n",
       "  </tbody>\n",
       "</table>\n",
       "</div>"
      ],
      "text/plain": [
       "   coupon_id  item_id  brand brand_type category  item_price\n",
       "0        105       37     56      Local  Grocery   57.247381\n",
       "1          6       37     56      Local  Grocery   57.247381\n",
       "2         22       37     56      Local  Grocery   57.247381\n",
       "3         31       37     56      Local  Grocery   57.247381\n",
       "4        107       75     56      Local  Grocery   38.828485"
      ]
     },
     "execution_count": 6,
     "metadata": {},
     "output_type": "execute_result"
    }
   ],
   "source": [
    "coupon_item = pd.merge(coupon_item,item_data,how='inner',on = 'item_id')\n",
    "coupon_item = pd.merge(coupon_item,item_price,how='inner',on = 'item_id')\n",
    "coupon_item.head()"
   ]
  },
  {
   "cell_type": "code",
   "execution_count": 7,
   "metadata": {
    "collapsed": true,
    "scrolled": true
   },
   "outputs": [],
   "source": [
    "#coupon_data = pd.pivot_table(coupon_item, values='item_id', index=['coupon_id'],columns=['category'], aggfunc=lambda x: len(x.unique()))\n",
    "#coupon_data = coupon_data.fillna(0)\n",
    "coupon_item['category'] = pd.Series(coupon_item['category'].factorize()[0]).replace(-1, np.nan)\n",
    "coupon_item['brand_type'] = pd.Series(coupon_item['brand_type'].factorize()[0]).replace(-1, np.nan)\n",
    "coupon_item['brand'] = pd.Series(coupon_item['brand'].factorize()[0]).replace(-1, np.nan)\n",
    "cat_agg=['nunique']\n",
    "num_agg=['min','mean','max']\n",
    "agg_col={\n",
    "    'item_id':cat_agg, 'brand':num_agg, 'item_price':num_agg, 'brand_type':num_agg, 'category':num_agg\n",
    "}\n",
    "coupon_data = coupon_item.groupby('coupon_id').agg(agg_col)"
   ]
  },
  {
   "cell_type": "code",
   "execution_count": 8,
   "metadata": {
    "collapsed": true,
    "scrolled": true
   },
   "outputs": [],
   "source": [
    "train = train.merge(cust_demograph,how='left',on = 'customer_id')\n",
    "train = train.merge(coupon_data.reset_index(),how='left',on ='coupon_id')"
   ]
  },
  {
   "cell_type": "code",
   "execution_count": 9,
   "metadata": {
    "collapsed": true
   },
   "outputs": [],
   "source": [
    "camp_data['start_date'] = pd.to_datetime(camp_data['start_date'],format='%d/%m/%y')\n",
    "camp_data['end_date'] = pd.to_datetime(camp_data['end_date'],format='%d/%m/%y')\n",
    "cust_trans['date'] = pd.to_datetime(cust_trans['date'],format='%Y-%m-%d')\n",
    "\n",
    "camp_data['diff_d']=(camp_data['end_date']-camp_data['start_date'])/np.timedelta64(1,'D')\n",
    "camp_data['diff_m']=(camp_data['end_date']-camp_data['start_date'])/np.timedelta64(1,'M')\n",
    "camp_data['diff_w']=(camp_data['end_date']-camp_data['start_date'])/np.timedelta64(1,'W')"
   ]
  },
  {
   "cell_type": "code",
   "execution_count": 10,
   "metadata": {
    "collapsed": true
   },
   "outputs": [],
   "source": [
    "test = test.merge(cust_demograph,how='left',on = 'customer_id')\n",
    "test = test.merge(coupon_data.reset_index(),how='left',on ='coupon_id')"
   ]
  },
  {
   "cell_type": "code",
   "execution_count": 11,
   "metadata": {
    "collapsed": true
   },
   "outputs": [],
   "source": [
    "train = train.fillna(train.mode().iloc[0])\n",
    "test = test.fillna(train.mode().iloc[0])"
   ]
  },
  {
   "cell_type": "code",
   "execution_count": 12,
   "metadata": {},
   "outputs": [],
   "source": [
    "#camp_data['diff_d']"
   ]
  },
  {
   "cell_type": "code",
   "execution_count": 13,
   "metadata": {
    "collapsed": true
   },
   "outputs": [],
   "source": [
    "i = 0\n",
    "agg_col={\n",
    "    'item_price':num_agg, 'item_id':cat_agg\n",
    "}\n",
    "_ = cust_trans[cust_trans['date'] < camp_data['start_date'][i]]\n",
    "trans = _.groupby('customer_id').agg(agg_col)\n",
    "trans['coupon_redeem'] = _[_['coupon_discount']< 0].groupby('customer_id').count().iloc[:,5]\n",
    "trans['campaign_id'],trans['campaign_type'],trans['diff_d'],trans['diff_m'],trans['diff_w'] = camp_data['campaign_id'][i],camp_data['campaign_type'][i],camp_data['diff_d'][i],camp_data['diff_m'][i],camp_data['diff_w'][i]\n",
    "#trans_feat = pd.concat([trans_feat,trans.reset_index()])"
   ]
  },
  {
   "cell_type": "code",
   "execution_count": 14,
   "metadata": {
    "collapsed": true
   },
   "outputs": [],
   "source": [
    "trans_feat = pd.DataFrame(columns=trans.reset_index().columns)\n",
    "for i in range(0,len(camp_data)):\n",
    "    agg_col={\n",
    "        'item_price':num_agg, 'item_id':cat_agg\n",
    "    }\n",
    "    _ = cust_trans[cust_trans['date'] < camp_data['start_date'][i]]\n",
    "    trans = _.groupby('customer_id').agg(agg_col)\n",
    "    trans['coupon_redeem'] = _[_['coupon_discount']< 0].groupby('customer_id').count().iloc[:,5]\n",
    "    trans['campaign_id'],trans['campaign_type'],trans['diff_d'],trans['diff_m'],trans['diff_w'] = camp_data['campaign_id'][i],camp_data['campaign_type'][i],camp_data['diff_d'][i],camp_data['diff_m'][i],camp_data['diff_w'][i]\n",
    "    trans_feat = pd.concat([trans_feat,trans.reset_index()])\n",
    "trans_feat['coupon_redeem'] = trans_feat['coupon_redeem'].fillna(0)\n",
    "trans_feat['campaign_type'] = trans_feat['campaign_type'].astype('category')"
   ]
  },
  {
   "cell_type": "code",
   "execution_count": 15,
   "metadata": {
    "collapsed": true
   },
   "outputs": [],
   "source": [
    "train = train.merge(trans_feat, on = ['campaign_id','customer_id'],how = 'left')\n",
    "test = test.merge(trans_feat, on = ['campaign_id','customer_id'],how = 'left')"
   ]
  },
  {
   "cell_type": "code",
   "execution_count": 16,
   "metadata": {},
   "outputs": [
    {
     "data": {
      "text/plain": [
       "id                          0\n",
       "campaign_id                 0\n",
       "coupon_id                   0\n",
       "customer_id                 0\n",
       "redemption_status           0\n",
       "age_range                   0\n",
       "marital_status              0\n",
       "rented                      0\n",
       "family_size                 0\n",
       "no_of_children              0\n",
       "income_bracket              0\n",
       "('item_id', 'nunique')_x    0\n",
       "(brand, min)                0\n",
       "(brand, mean)               0\n",
       "(brand, max)                0\n",
       "('item_price', 'min')_x     0\n",
       "('item_price', 'mean')_x    0\n",
       "('item_price', 'max')_x     0\n",
       "(brand_type, min)           0\n",
       "(brand_type, mean)          0\n",
       "(brand_type, max)           0\n",
       "(category, min)             0\n",
       "(category, mean)            0\n",
       "(category, max)             0\n",
       "(item_price_y, min)         0\n",
       "(item_price_y, mean)        0\n",
       "(item_price_y, max)         0\n",
       "(item_id_y, nunique)        0\n",
       "(coupon_redeem, )           0\n",
       "(campaign_type, )           0\n",
       "(diff_d, )                  0\n",
       "(diff_m, )                  0\n",
       "(diff_w, )                  0\n",
       "dtype: int64"
      ]
     },
     "execution_count": 16,
     "metadata": {},
     "output_type": "execute_result"
    }
   ],
   "source": [
    "train.isnull().sum()#.iloc[:,11:29]#.dtypes"
   ]
  },
  {
   "cell_type": "code",
   "execution_count": 17,
   "metadata": {
    "collapsed": true
   },
   "outputs": [],
   "source": [
    "train['rented'] = train['rented'].astype('int64')\n",
    "train['campaign_type',''] = train['campaign_type',''].astype('category')\n",
    "for col in ['age_range', 'marital_status', 'rented', 'family_size','no_of_children','income_bracket']:\n",
    "    train[col] = train[col].astype('category')\n",
    "    \n",
    "train.iloc[:,26:29] = train.iloc[:,26:29].astype('float64')\n",
    "#train.iloc[:,27] = train.iloc[:,27].astype('int64')\n",
    "\n",
    "train1 = train.iloc[:,11:29]\n",
    "\n",
    "test['rented'] = test['rented'].astype('int64')\n",
    "test['campaign_type',''] = test['campaign_type',''].astype('category')\n",
    "for col in ['age_range', 'marital_status', 'rented', 'family_size','no_of_children','income_bracket']:\n",
    "    test[col] = test[col].astype('category')\n",
    "    \n",
    "#test.iloc[:,10:43] = test.iloc[:,10:43].astype('int64')\n",
    "test.iloc[:,10:27] = test.iloc[:,10:27].astype('int64')\n",
    "test1 = test.iloc[:,10:28]"
   ]
  },
  {
   "cell_type": "code",
   "execution_count": 27,
   "metadata": {},
   "outputs": [
    {
     "data": {
      "text/plain": [
       "id                             int64\n",
       "campaign_id                   object\n",
       "coupon_id                      int64\n",
       "customer_id                   object\n",
       "redemption_status              int64\n",
       "age_range                   category\n",
       "marital_status              category\n",
       "rented                      category\n",
       "family_size                 category\n",
       "no_of_children              category\n",
       "income_bracket              category\n",
       "('item_id', 'nunique')_x       int64\n",
       "(brand, min)                   int64\n",
       "(brand, mean)                float64\n",
       "(brand, max)                   int64\n",
       "('item_price', 'min')_x      float64\n",
       "('item_price', 'mean')_x     float64\n",
       "('item_price', 'max')_x      float64\n",
       "(brand_type, min)              int64\n",
       "(brand_type, mean)           float64\n",
       "(brand_type, max)              int64\n",
       "(category, min)                int64\n",
       "(category, mean)             float64\n",
       "(category, max)                int64\n",
       "(item_price_y, min)          float64\n",
       "(item_price_y, mean)         float64\n",
       "(item_price_y, max)          float64\n",
       "(item_id_y, nunique)         float64\n",
       "(coupon_redeem, )            float64\n",
       "(campaign_type, )           category\n",
       "(diff_d, )                   float64\n",
       "(diff_m, )                   float64\n",
       "(diff_w, )                   float64\n",
       "dtype: object"
      ]
     },
     "execution_count": 27,
     "metadata": {},
     "output_type": "execute_result"
    }
   ],
   "source": [
    "train.dtypes"
   ]
  },
  {
   "cell_type": "code",
   "execution_count": 18,
   "metadata": {
    "collapsed": true
   },
   "outputs": [],
   "source": [
    "X,y=train1,train['redemption_status']\n",
    "Xtest=test1"
   ]
  },
  {
   "cell_type": "code",
   "execution_count": null,
   "metadata": {},
   "outputs": [],
   "source": []
  },
  {
   "cell_type": "code",
   "execution_count": 19,
   "metadata": {},
   "outputs": [
    {
     "data": {
      "text/plain": [
       "0    0.990698\n",
       "1    0.009302\n",
       "Name: redemption_status, dtype: float64"
      ]
     },
     "execution_count": 19,
     "metadata": {},
     "output_type": "execute_result"
    }
   ],
   "source": [
    "train['redemption_status'].value_counts()/train.shape[0]"
   ]
  },
  {
   "cell_type": "code",
   "execution_count": 20,
   "metadata": {
    "collapsed": true
   },
   "outputs": [],
   "source": [
    "\n",
    "from catboost import CatBoostClassifier,Pool, cv\n",
    "from lightgbm import LGBMClassifier\n",
    "from sklearn.model_selection import StratifiedKFold,train_test_split\n",
    "from sklearn.linear_model import LogisticRegression\n",
    "from sklearn.ensemble import RandomForestClassifier\n",
    "from sklearn.metrics import accuracy_score,confusion_matrix,roc_auc_score"
   ]
  },
  {
   "cell_type": "code",
   "execution_count": 21,
   "metadata": {},
   "outputs": [
    {
     "name": "stdout",
     "output_type": "stream",
     "text": [
      "Training until validation scores don't improve for 200 rounds\n",
      "[200]\tvalid_0's auc: 0.929989\tvalid_0's binary_logloss: 0.0385537\n",
      "[400]\tvalid_0's auc: 0.937376\tvalid_0's binary_logloss: 0.0369938\n",
      "[600]\tvalid_0's auc: 0.938315\tvalid_0's binary_logloss: 0.0362443\n",
      "[800]\tvalid_0's auc: 0.937689\tvalid_0's binary_logloss: 0.0360324\n",
      "Early stopping, best iteration is:\n",
      "[693]\tvalid_0's auc: 0.938977\tvalid_0's binary_logloss: 0.0360798\n",
      "err:  0.9389768439227482\n",
      "Training until validation scores don't improve for 200 rounds\n",
      "[200]\tvalid_0's auc: 0.895199\tvalid_0's binary_logloss: 0.039932\n",
      "Early stopping, best iteration is:\n",
      "[179]\tvalid_0's auc: 0.900239\tvalid_0's binary_logloss: 0.0399276\n",
      "err:  0.9002394976119861\n",
      "Training until validation scores don't improve for 200 rounds\n",
      "[200]\tvalid_0's auc: 0.883238\tvalid_0's binary_logloss: 0.0379792\n",
      "[400]\tvalid_0's auc: 0.892136\tvalid_0's binary_logloss: 0.0366588\n",
      "[600]\tvalid_0's auc: 0.894886\tvalid_0's binary_logloss: 0.0363478\n",
      "[800]\tvalid_0's auc: 0.893855\tvalid_0's binary_logloss: 0.0364658\n",
      "Early stopping, best iteration is:\n",
      "[612]\tvalid_0's auc: 0.895185\tvalid_0's binary_logloss: 0.0363196\n",
      "err:  0.8951849840566997\n",
      "Training until validation scores don't improve for 200 rounds\n",
      "[200]\tvalid_0's auc: 0.938496\tvalid_0's binary_logloss: 0.0351921\n",
      "[400]\tvalid_0's auc: 0.946357\tvalid_0's binary_logloss: 0.0335942\n",
      "[600]\tvalid_0's auc: 0.948849\tvalid_0's binary_logloss: 0.0331047\n",
      "[800]\tvalid_0's auc: 0.95155\tvalid_0's binary_logloss: 0.0326236\n",
      "[1000]\tvalid_0's auc: 0.952094\tvalid_0's binary_logloss: 0.0328351\n",
      "Early stopping, best iteration is:\n",
      "[873]\tvalid_0's auc: 0.952059\tvalid_0's binary_logloss: 0.0325543\n",
      "err:  0.9520587047634961\n",
      "Training until validation scores don't improve for 200 rounds\n",
      "[200]\tvalid_0's auc: 0.888473\tvalid_0's binary_logloss: 0.0430982\n",
      "[400]\tvalid_0's auc: 0.90175\tvalid_0's binary_logloss: 0.0413624\n",
      "[600]\tvalid_0's auc: 0.901444\tvalid_0's binary_logloss: 0.0408021\n",
      "Early stopping, best iteration is:\n",
      "[457]\tvalid_0's auc: 0.904403\tvalid_0's binary_logloss: 0.0409043\n",
      "err:  0.904402857262208\n",
      "Training until validation scores don't improve for 200 rounds\n",
      "[200]\tvalid_0's auc: 0.929299\tvalid_0's binary_logloss: 0.036267\n",
      "[400]\tvalid_0's auc: 0.935712\tvalid_0's binary_logloss: 0.0344939\n",
      "[600]\tvalid_0's auc: 0.937355\tvalid_0's binary_logloss: 0.0341795\n",
      "[800]\tvalid_0's auc: 0.940669\tvalid_0's binary_logloss: 0.0338541\n",
      "[1000]\tvalid_0's auc: 0.943196\tvalid_0's binary_logloss: 0.0336346\n",
      "[1200]\tvalid_0's auc: 0.94385\tvalid_0's binary_logloss: 0.0336655\n",
      "Early stopping, best iteration is:\n",
      "[1158]\tvalid_0's auc: 0.94392\tvalid_0's binary_logloss: 0.0336019\n",
      "err:  0.9439199632399013\n",
      "Training until validation scores don't improve for 200 rounds\n",
      "[200]\tvalid_0's auc: 0.918425\tvalid_0's binary_logloss: 0.0382845\n",
      "[400]\tvalid_0's auc: 0.927803\tvalid_0's binary_logloss: 0.0366455\n",
      "[600]\tvalid_0's auc: 0.928917\tvalid_0's binary_logloss: 0.036128\n",
      "[800]\tvalid_0's auc: 0.930762\tvalid_0's binary_logloss: 0.0358416\n",
      "[1000]\tvalid_0's auc: 0.930128\tvalid_0's binary_logloss: 0.0359602\n",
      "Early stopping, best iteration is:\n",
      "[822]\tvalid_0's auc: 0.931479\tvalid_0's binary_logloss: 0.0357938\n",
      "err:  0.9314786192684184\n",
      "Training until validation scores don't improve for 200 rounds\n",
      "[200]\tvalid_0's auc: 0.938622\tvalid_0's binary_logloss: 0.0377677\n",
      "[400]\tvalid_0's auc: 0.947909\tvalid_0's binary_logloss: 0.0359512\n",
      "[600]\tvalid_0's auc: 0.948835\tvalid_0's binary_logloss: 0.0355267\n",
      "Early stopping, best iteration is:\n",
      "[460]\tvalid_0's auc: 0.949782\tvalid_0's binary_logloss: 0.0356812\n",
      "err:  0.9497820850216523\n",
      "Training until validation scores don't improve for 200 rounds\n",
      "[200]\tvalid_0's auc: 0.894412\tvalid_0's binary_logloss: 0.0384845\n",
      "Early stopping, best iteration is:\n",
      "[11]\tvalid_0's auc: 0.89979\tvalid_0's binary_logloss: 0.0481122\n",
      "err:  0.8997904395895123\n",
      "Training until validation scores don't improve for 200 rounds\n",
      "[200]\tvalid_0's auc: 0.904824\tvalid_0's binary_logloss: 0.0390588\n",
      "[400]\tvalid_0's auc: 0.921303\tvalid_0's binary_logloss: 0.0373865\n",
      "[600]\tvalid_0's auc: 0.92325\tvalid_0's binary_logloss: 0.0369032\n",
      "[800]\tvalid_0's auc: 0.924244\tvalid_0's binary_logloss: 0.0367889\n",
      "Early stopping, best iteration is:\n",
      "[694]\tvalid_0's auc: 0.924874\tvalid_0's binary_logloss: 0.0367418\n",
      "err:  0.9248740626252219\n",
      "Training until validation scores don't improve for 200 rounds\n",
      "[200]\tvalid_0's auc: 0.915486\tvalid_0's binary_logloss: 0.0378705\n",
      "[400]\tvalid_0's auc: 0.921718\tvalid_0's binary_logloss: 0.0362553\n",
      "[600]\tvalid_0's auc: 0.926699\tvalid_0's binary_logloss: 0.0355803\n",
      "[800]\tvalid_0's auc: 0.925411\tvalid_0's binary_logloss: 0.0356812\n",
      "Early stopping, best iteration is:\n",
      "[626]\tvalid_0's auc: 0.927157\tvalid_0's binary_logloss: 0.0355298\n",
      "err:  0.9271566775430764\n",
      "Training until validation scores don't improve for 200 rounds\n",
      "[200]\tvalid_0's auc: 0.928352\tvalid_0's binary_logloss: 0.0373509\n",
      "[400]\tvalid_0's auc: 0.943722\tvalid_0's binary_logloss: 0.0347844\n",
      "[600]\tvalid_0's auc: 0.95145\tvalid_0's binary_logloss: 0.0333538\n",
      "[800]\tvalid_0's auc: 0.953131\tvalid_0's binary_logloss: 0.0327753\n",
      "[1000]\tvalid_0's auc: 0.95477\tvalid_0's binary_logloss: 0.0324956\n",
      "[1200]\tvalid_0's auc: 0.95741\tvalid_0's binary_logloss: 0.0323169\n",
      "[1400]\tvalid_0's auc: 0.958061\tvalid_0's binary_logloss: 0.0324045\n",
      "Early stopping, best iteration is:\n",
      "[1272]\tvalid_0's auc: 0.957861\tvalid_0's binary_logloss: 0.0322538\n",
      "err:  0.9578610681779152\n",
      "Training until validation scores don't improve for 200 rounds\n",
      "[200]\tvalid_0's auc: 0.89281\tvalid_0's binary_logloss: 0.0371139\n",
      "[400]\tvalid_0's auc: 0.903822\tvalid_0's binary_logloss: 0.0358811\n",
      "[600]\tvalid_0's auc: 0.903136\tvalid_0's binary_logloss: 0.0357781\n",
      "Early stopping, best iteration is:\n",
      "[460]\tvalid_0's auc: 0.904488\tvalid_0's binary_logloss: 0.0356784\n",
      "err:  0.9044879500830043\n",
      "Training until validation scores don't improve for 200 rounds\n",
      "[200]\tvalid_0's auc: 0.917919\tvalid_0's binary_logloss: 0.0381926\n",
      "[400]\tvalid_0's auc: 0.930148\tvalid_0's binary_logloss: 0.0359705\n",
      "[600]\tvalid_0's auc: 0.935121\tvalid_0's binary_logloss: 0.0350967\n",
      "[800]\tvalid_0's auc: 0.937539\tvalid_0's binary_logloss: 0.0345868\n",
      "[1000]\tvalid_0's auc: 0.938419\tvalid_0's binary_logloss: 0.0345992\n",
      "Early stopping, best iteration is:\n",
      "[910]\tvalid_0's auc: 0.938419\tvalid_0's binary_logloss: 0.0344775\n",
      "err:  0.9384194859465338\n",
      "Training until validation scores don't improve for 200 rounds\n",
      "[200]\tvalid_0's auc: 0.917926\tvalid_0's binary_logloss: 0.0369571\n",
      "[400]\tvalid_0's auc: 0.93301\tvalid_0's binary_logloss: 0.0344776\n",
      "[600]\tvalid_0's auc: 0.933847\tvalid_0's binary_logloss: 0.0339548\n",
      "[800]\tvalid_0's auc: 0.938155\tvalid_0's binary_logloss: 0.0332573\n",
      "[1000]\tvalid_0's auc: 0.939636\tvalid_0's binary_logloss: 0.0329396\n",
      "[1200]\tvalid_0's auc: 0.941997\tvalid_0's binary_logloss: 0.0327836\n",
      "[1400]\tvalid_0's auc: 0.941818\tvalid_0's binary_logloss: 0.0329128\n",
      "Early stopping, best iteration is:\n",
      "[1250]\tvalid_0's auc: 0.942269\tvalid_0's binary_logloss: 0.0327176\n",
      "err:  0.9422691625164579\n",
      "Training until validation scores don't improve for 200 rounds\n",
      "[200]\tvalid_0's auc: 0.887551\tvalid_0's binary_logloss: 0.0375593\n",
      "Early stopping, best iteration is:\n",
      "[198]\tvalid_0's auc: 0.887801\tvalid_0's binary_logloss: 0.0375652\n",
      "err:  0.8878012479248957\n",
      "Training until validation scores don't improve for 200 rounds\n",
      "[200]\tvalid_0's auc: 0.891737\tvalid_0's binary_logloss: 0.0399884\n",
      "[400]\tvalid_0's auc: 0.910828\tvalid_0's binary_logloss: 0.0380049\n",
      "[600]\tvalid_0's auc: 0.917897\tvalid_0's binary_logloss: 0.0371616\n",
      "[800]\tvalid_0's auc: 0.921117\tvalid_0's binary_logloss: 0.036806\n",
      "[1000]\tvalid_0's auc: 0.923522\tvalid_0's binary_logloss: 0.0366964\n",
      "[1200]\tvalid_0's auc: 0.92398\tvalid_0's binary_logloss: 0.0368191\n",
      "Early stopping, best iteration is:\n",
      "[1045]\tvalid_0's auc: 0.924588\tvalid_0's binary_logloss: 0.0365992\n",
      "err:  0.9245878413189077\n",
      "Training until validation scores don't improve for 200 rounds\n",
      "[200]\tvalid_0's auc: 0.902771\tvalid_0's binary_logloss: 0.0389603\n",
      "[400]\tvalid_0's auc: 0.923658\tvalid_0's binary_logloss: 0.0368571\n",
      "[600]\tvalid_0's auc: 0.925396\tvalid_0's binary_logloss: 0.0363006\n",
      "[800]\tvalid_0's auc: 0.929203\tvalid_0's binary_logloss: 0.0360155\n",
      "[1000]\tvalid_0's auc: 0.931185\tvalid_0's binary_logloss: 0.0360132\n",
      "Early stopping, best iteration is:\n",
      "[860]\tvalid_0's auc: 0.930069\tvalid_0's binary_logloss: 0.0359171\n"
     ]
    },
    {
     "name": "stdout",
     "output_type": "stream",
     "text": [
      "err:  0.9300689793348216\n",
      "Training until validation scores don't improve for 200 rounds\n",
      "[200]\tvalid_0's auc: 0.874571\tvalid_0's binary_logloss: 0.0406834\n",
      "[400]\tvalid_0's auc: 0.890141\tvalid_0's binary_logloss: 0.0392657\n",
      "[600]\tvalid_0's auc: 0.89847\tvalid_0's binary_logloss: 0.0387866\n",
      "Early stopping, best iteration is:\n",
      "[567]\tvalid_0's auc: 0.89857\tvalid_0's binary_logloss: 0.0387104\n",
      "err:  0.8985703245749613\n",
      "Training until validation scores don't improve for 200 rounds\n",
      "[200]\tvalid_0's auc: 0.927915\tvalid_0's binary_logloss: 0.0366931\n",
      "[400]\tvalid_0's auc: 0.941597\tvalid_0's binary_logloss: 0.034314\n",
      "[600]\tvalid_0's auc: 0.942126\tvalid_0's binary_logloss: 0.0338193\n",
      "[800]\tvalid_0's auc: 0.945246\tvalid_0's binary_logloss: 0.0331412\n",
      "[1000]\tvalid_0's auc: 0.945189\tvalid_0's binary_logloss: 0.0329862\n",
      "Early stopping, best iteration is:\n",
      "[841]\tvalid_0's auc: 0.945818\tvalid_0's binary_logloss: 0.0329574\n",
      "err:  0.9458183067147519\n"
     ]
    }
   ],
   "source": [
    "err=[]\n",
    "y_pred_tot=[]\n",
    "from sklearn.model_selection import KFold,StratifiedKFold\n",
    "fold=StratifiedKFold(n_splits=20,shuffle=True,random_state=1994)\n",
    "i=1\n",
    "for train_index, test_index in fold.split(X,y):\n",
    "    X_train, X_test = X.iloc[train_index], X.iloc[test_index]\n",
    "    y_train, y_test = y[train_index], y[test_index]\n",
    "    m=LGBMClassifier(n_estimators=3000,random_state=1994,learning_rate=0.02,colsample_bytree=0.2,objective='binary',scale_pos_weight=1)\n",
    "    m.fit(X_train,y_train,eval_set=[(X_test, y_test)],eval_metric='auc', early_stopping_rounds=200,verbose=200)\n",
    "    preds=m.predict_proba(X_test)[:,-1]\n",
    "    print(\"err: \",roc_auc_score(y_test,preds))\n",
    "    err.append(roc_auc_score(y_test,preds))\n",
    "    p = m.predict_proba(Xtest)[:,-1]\n",
    "    i=i+1\n",
    "    y_pred_tot.append(p)"
   ]
  },
  {
   "cell_type": "code",
   "execution_count": 22,
   "metadata": {},
   "outputs": [
    {
     "data": {
      "text/plain": [
       "0.9248874550748587"
      ]
     },
     "execution_count": 22,
     "metadata": {},
     "output_type": "execute_result"
    }
   ],
   "source": [
    "np.mean(err,0)"
   ]
  },
  {
   "cell_type": "code",
   "execution_count": 23,
   "metadata": {
    "collapsed": true
   },
   "outputs": [],
   "source": [
    "sub = pd.read_csv('C:/Users/shashi.singh/Downloads/sample_submission_Byiv0dS.csv')"
   ]
  },
  {
   "cell_type": "code",
   "execution_count": 25,
   "metadata": {},
   "outputs": [
    {
     "data": {
      "text/html": [
       "<div>\n",
       "<style scoped>\n",
       "    .dataframe tbody tr th:only-of-type {\n",
       "        vertical-align: middle;\n",
       "    }\n",
       "\n",
       "    .dataframe tbody tr th {\n",
       "        vertical-align: top;\n",
       "    }\n",
       "\n",
       "    .dataframe thead th {\n",
       "        text-align: right;\n",
       "    }\n",
       "</style>\n",
       "<table border=\"1\" class=\"dataframe\">\n",
       "  <thead>\n",
       "    <tr style=\"text-align: right;\">\n",
       "      <th></th>\n",
       "      <th>id</th>\n",
       "      <th>redemption_status</th>\n",
       "    </tr>\n",
       "  </thead>\n",
       "  <tbody>\n",
       "    <tr>\n",
       "      <td>0</td>\n",
       "      <td>3</td>\n",
       "      <td>0.084806</td>\n",
       "    </tr>\n",
       "    <tr>\n",
       "      <td>1</td>\n",
       "      <td>4</td>\n",
       "      <td>0.002192</td>\n",
       "    </tr>\n",
       "    <tr>\n",
       "      <td>2</td>\n",
       "      <td>5</td>\n",
       "      <td>0.030835</td>\n",
       "    </tr>\n",
       "    <tr>\n",
       "      <td>3</td>\n",
       "      <td>8</td>\n",
       "      <td>0.001510</td>\n",
       "    </tr>\n",
       "    <tr>\n",
       "      <td>4</td>\n",
       "      <td>10</td>\n",
       "      <td>0.001742</td>\n",
       "    </tr>\n",
       "  </tbody>\n",
       "</table>\n",
       "</div>"
      ],
      "text/plain": [
       "   id  redemption_status\n",
       "0   3           0.084806\n",
       "1   4           0.002192\n",
       "2   5           0.030835\n",
       "3   8           0.001510\n",
       "4  10           0.001742"
      ]
     },
     "execution_count": 25,
     "metadata": {},
     "output_type": "execute_result"
    }
   ],
   "source": [
    "sub['redemption_status']=np.mean(y_pred_tot,0)\n",
    "sub.head()"
   ]
  },
  {
   "cell_type": "code",
   "execution_count": null,
   "metadata": {},
   "outputs": [],
   "source": []
  },
  {
   "cell_type": "code",
   "execution_count": 28,
   "metadata": {},
   "outputs": [
    {
     "data": {
      "text/plain": [
       "(50226, 2)"
      ]
     },
     "execution_count": 28,
     "metadata": {},
     "output_type": "execute_result"
    }
   ],
   "source": [
    "sub.to_csv('C:/Users/shashi.singh/Downloads/sample_6th_nocat_pivot.csv',index=False)\n",
    "sub.shape"
   ]
  },
  {
   "cell_type": "code",
   "execution_count": 29,
   "metadata": {},
   "outputs": [
    {
     "name": "stdout",
     "output_type": "stream",
     "text": [
      "(78369, 28) (50226, 28)\n"
     ]
    },
    {
     "data": {
      "text/plain": [
       "array([ 0,  1,  2,  3,  4,  5, 24], dtype=int64)"
      ]
     },
     "execution_count": 29,
     "metadata": {},
     "output_type": "execute_result"
    }
   ],
   "source": [
    "X,y=train.drop(['id','customer_id','campaign_id','coupon_id','redemption_status'],axis=1),train['redemption_status']\n",
    "Xtest=test.drop(['id','customer_id','campaign_id','coupon_id'],axis=1)\n",
    "\n",
    "print(X.shape,Xtest.shape)\n",
    "X_train,X_val,y_train,y_val = train_test_split(X,y,test_size=0.25,random_state = 1994,stratify=y)\n",
    "categorical_features_indices = np.where(X_train.dtypes =='category')[0]\n",
    "categorical_features_indices"
   ]
  },
  {
   "cell_type": "code",
   "execution_count": null,
   "metadata": {},
   "outputs": [],
   "source": []
  },
  {
   "cell_type": "code",
   "execution_count": null,
   "metadata": {
    "collapsed": true
   },
   "outputs": [],
   "source": []
  },
  {
   "cell_type": "code",
   "execution_count": 30,
   "metadata": {},
   "outputs": [
    {
     "name": "stdout",
     "output_type": "stream",
     "text": [
      "0:\ttest: 0.6915768\tbest: 0.6915768 (0)\ttotal: 211ms\tremaining: 10m 33s\n",
      "200:\ttest: 0.8832377\tbest: 0.8832377 (200)\ttotal: 22s\tremaining: 5m 5s\n",
      "400:\ttest: 0.8952296\tbest: 0.8952709 (397)\ttotal: 45.9s\tremaining: 4m 57s\n",
      "600:\ttest: 0.9015906\tbest: 0.9015906 (600)\ttotal: 1m 9s\tremaining: 4m 38s\n",
      "800:\ttest: 0.9061849\tbest: 0.9061849 (800)\ttotal: 1m 34s\tremaining: 4m 19s\n",
      "1000:\ttest: 0.9086360\tbest: 0.9087014 (999)\ttotal: 1m 58s\tremaining: 3m 56s\n",
      "1200:\ttest: 0.9113330\tbest: 0.9114479 (1193)\ttotal: 2m 23s\tremaining: 3m 34s\n",
      "1400:\ttest: 0.9131760\tbest: 0.9131873 (1399)\ttotal: 2m 46s\tremaining: 3m 10s\n",
      "1600:\ttest: 0.9140566\tbest: 0.9141175 (1593)\ttotal: 3m 10s\tremaining: 2m 46s\n",
      "1800:\ttest: 0.9152347\tbest: 0.9153660 (1795)\ttotal: 3m 34s\tremaining: 2m 23s\n",
      "2000:\ttest: 0.9159676\tbest: 0.9159676 (2000)\ttotal: 3m 59s\tremaining: 1m 59s\n",
      "2200:\ttest: 0.9154453\tbest: 0.9160380 (2023)\ttotal: 4m 23s\tremaining: 1m 35s\n",
      "Stopped by overfitting detector  (200 iterations wait)\n",
      "\n",
      "bestTest = 0.9160380344\n",
      "bestIteration = 2023\n",
      "\n",
      "Shrink model to first 2024 iterations.\n",
      "0.9160380343987576\n"
     ]
    }
   ],
   "source": [
    "m=CatBoostClassifier(n_estimators=3000,random_state=1994,learning_rate=0.03,eval_metric='AUC')\n",
    "m.fit(X_train,y_train,eval_set=[(X_val, y_val.values)], early_stopping_rounds=200,verbose=200,cat_features=categorical_features_indices)\n",
    "p=m.predict_proba(X_val)[:,-1]\n",
    "print(roc_auc_score(y_val,p))"
   ]
  },
  {
   "cell_type": "code",
   "execution_count": 31,
   "metadata": {},
   "outputs": [
    {
     "name": "stdout",
     "output_type": "stream",
     "text": [
      "0:\ttest: 0.6258372\tbest: 0.6258372 (0)\ttotal: 141ms\tremaining: 5m 53s\n",
      "200:\ttest: 0.9155910\tbest: 0.9155910 (200)\ttotal: 25.8s\tremaining: 4m 54s\n",
      "400:\ttest: 0.9236880\tbest: 0.9236880 (400)\ttotal: 51.4s\tremaining: 4m 28s\n",
      "600:\ttest: 0.9308660\tbest: 0.9308660 (600)\ttotal: 1m 17s\tremaining: 4m 3s\n",
      "800:\ttest: 0.9367350\tbest: 0.9369787 (795)\ttotal: 1m 42s\tremaining: 3m 38s\n",
      "1000:\ttest: 0.9380927\tbest: 0.9387053 (925)\ttotal: 2m 8s\tremaining: 3m 12s\n",
      "Stopped by overfitting detector  (200 iterations wait)\n",
      "\n",
      "bestTest = 0.9387053205\n",
      "bestIteration = 925\n",
      "\n",
      "Shrink model to first 926 iterations.\n",
      "err_cb:  0.9387053204672989\n",
      "0:\ttest: 0.6511829\tbest: 0.6511829 (0)\ttotal: 135ms\tremaining: 5m 36s\n",
      "200:\ttest: 0.8898520\tbest: 0.8904925 (192)\ttotal: 25.3s\tremaining: 4m 49s\n",
      "400:\ttest: 0.9005249\tbest: 0.9005806 (399)\ttotal: 50.9s\tremaining: 4m 26s\n",
      "600:\ttest: 0.9000515\tbest: 0.9010471 (540)\ttotal: 1m 16s\tremaining: 4m 2s\n",
      "Stopped by overfitting detector  (200 iterations wait)\n",
      "\n",
      "bestTest = 0.9010471058\n",
      "bestIteration = 540\n",
      "\n",
      "Shrink model to first 541 iterations.\n",
      "err_cb:  0.9010471058384506\n",
      "0:\ttest: 0.6606096\tbest: 0.6606096 (0)\ttotal: 135ms\tremaining: 5m 36s\n",
      "200:\ttest: 0.8705390\tbest: 0.8705390 (200)\ttotal: 25.9s\tremaining: 4m 55s\n",
      "400:\ttest: 0.8757328\tbest: 0.8770277 (345)\ttotal: 51.8s\tremaining: 4m 31s\n",
      "600:\ttest: 0.8804392\tbest: 0.8805645 (596)\ttotal: 1m 18s\tremaining: 4m 7s\n",
      "800:\ttest: 0.8820544\tbest: 0.8827924 (771)\ttotal: 1m 44s\tremaining: 3m 40s\n",
      "Stopped by overfitting detector  (200 iterations wait)\n",
      "\n",
      "bestTest = 0.8827923751\n",
      "bestIteration = 771\n",
      "\n",
      "Shrink model to first 772 iterations.\n",
      "err_cb:  0.8827923750643998\n",
      "0:\ttest: 0.6628479\tbest: 0.6628479 (0)\ttotal: 148ms\tremaining: 6m 9s\n",
      "200:\ttest: 0.9017503\tbest: 0.9022864 (198)\ttotal: 27.7s\tremaining: 5m 16s\n",
      "400:\ttest: 0.9124720\tbest: 0.9138226 (371)\ttotal: 55.6s\tremaining: 4m 50s\n",
      "600:\ttest: 0.9166841\tbest: 0.9169486 (526)\ttotal: 1m 23s\tremaining: 4m 22s\n",
      "800:\ttest: 0.9187101\tbest: 0.9205341 (666)\ttotal: 1m 51s\tremaining: 3m 55s\n",
      "Stopped by overfitting detector  (200 iterations wait)\n",
      "\n",
      "bestTest = 0.9205341354\n",
      "bestIteration = 666\n",
      "\n",
      "Shrink model to first 667 iterations.\n",
      "err_cb:  0.9205341353718479\n",
      "0:\ttest: 0.6278493\tbest: 0.6278493 (0)\ttotal: 159ms\tremaining: 6m 36s\n",
      "200:\ttest: 0.8736441\tbest: 0.8737068 (199)\ttotal: 27.4s\tremaining: 5m 12s\n",
      "400:\ttest: 0.8936394\tbest: 0.8936394 (400)\ttotal: 54.7s\tremaining: 4m 46s\n",
      "600:\ttest: 0.9007895\tbest: 0.9008870 (599)\ttotal: 1m 22s\tremaining: 4m 20s\n",
      "800:\ttest: 0.8999610\tbest: 0.9024952 (667)\ttotal: 1m 49s\tremaining: 3m 52s\n",
      "Stopped by overfitting detector  (200 iterations wait)\n",
      "\n",
      "bestTest = 0.9024952309\n",
      "bestIteration = 667\n",
      "\n",
      "Shrink model to first 668 iterations.\n",
      "err_cb:  0.9024952309341799\n",
      "0:\ttest: 0.7158890\tbest: 0.7158890 (0)\ttotal: 197ms\tremaining: 8m 12s\n",
      "200:\ttest: 0.9193784\tbest: 0.9194132 (197)\ttotal: 27.1s\tremaining: 5m 10s\n",
      "400:\ttest: 0.9248994\tbest: 0.9253659 (394)\ttotal: 54.1s\tremaining: 4m 43s\n",
      "600:\ttest: 0.9315761\tbest: 0.9315761 (600)\ttotal: 1m 21s\tremaining: 4m 16s\n",
      "800:\ttest: 0.9334141\tbest: 0.9338109 (790)\ttotal: 1m 48s\tremaining: 3m 50s\n",
      "1000:\ttest: 0.9316527\tbest: 0.9339850 (815)\ttotal: 2m 16s\tremaining: 3m 23s\n",
      "Stopped by overfitting detector  (200 iterations wait)\n",
      "\n",
      "bestTest = 0.9339849896\n",
      "bestIteration = 815\n",
      "\n",
      "Shrink model to first 816 iterations.\n",
      "err_cb:  0.9339849896264116\n",
      "0:\ttest: 0.6865679\tbest: 0.6865679 (0)\ttotal: 160ms\tremaining: 6m 39s\n",
      "200:\ttest: 0.9188841\tbest: 0.9188841 (200)\ttotal: 27.3s\tremaining: 5m 11s\n",
      "400:\ttest: 0.9287634\tbest: 0.9287634 (400)\ttotal: 54.4s\tremaining: 4m 44s\n",
      "600:\ttest: 0.9312906\tbest: 0.9315622 (595)\ttotal: 1m 21s\tremaining: 4m 17s\n",
      "Stopped by overfitting detector  (200 iterations wait)\n",
      "\n",
      "bestTest = 0.9315621649\n",
      "bestIteration = 595\n",
      "\n",
      "Shrink model to first 596 iterations.\n",
      "err_cb:  0.9315621649470183\n",
      "0:\ttest: 0.6306620\tbest: 0.6306620 (0)\ttotal: 141ms\tremaining: 5m 52s\n",
      "200:\ttest: 0.9504017\tbest: 0.9504783 (199)\ttotal: 25.8s\tremaining: 4m 54s\n",
      "400:\ttest: 0.9581018\tbest: 0.9584430 (367)\ttotal: 51.7s\tremaining: 4m 30s\n",
      "Stopped by overfitting detector  (200 iterations wait)\n",
      "\n",
      "bestTest = 0.958442987\n",
      "bestIteration = 367\n",
      "\n",
      "Shrink model to first 368 iterations.\n",
      "err_cb:  0.9584429870364956\n",
      "0:\ttest: 0.6353962\tbest: 0.6353962 (0)\ttotal: 143ms\tremaining: 5m 56s\n",
      "200:\ttest: 0.8956654\tbest: 0.8957211 (199)\ttotal: 26.1s\tremaining: 4m 58s\n",
      "400:\ttest: 0.8994876\tbest: 0.9003718 (340)\ttotal: 52.1s\tremaining: 4m 32s\n",
      "600:\ttest: 0.9062687\tbest: 0.9073200 (588)\ttotal: 1m 18s\tremaining: 4m 7s\n",
      "800:\ttest: 0.9082042\tbest: 0.9098681 (787)\ttotal: 1m 44s\tremaining: 3m 40s\n",
      "1000:\ttest: 0.9102232\tbest: 0.9104878 (997)\ttotal: 2m 9s\tremaining: 3m 13s\n",
      "1200:\ttest: 0.9102719\tbest: 0.9105087 (1194)\ttotal: 2m 35s\tremaining: 2m 48s\n",
      "1400:\ttest: 0.9098960\tbest: 0.9112466 (1291)\ttotal: 3m 1s\tremaining: 2m 22s\n",
      "Stopped by overfitting detector  (200 iterations wait)\n",
      "\n",
      "bestTest = 0.9112466408\n",
      "bestIteration = 1291\n",
      "\n",
      "Shrink model to first 1292 iterations.\n",
      "err_cb:  0.9112466407675063\n",
      "0:\ttest: 0.7132707\tbest: 0.7132707 (0)\ttotal: 133ms\tremaining: 5m 33s\n",
      "200:\ttest: 0.9101766\tbest: 0.9101766 (200)\ttotal: 26.1s\tremaining: 4m 58s\n",
      "400:\ttest: 0.9152785\tbest: 0.9159368 (386)\ttotal: 51.7s\tremaining: 4m 30s\n",
      "600:\ttest: 0.9210959\tbest: 0.9215467 (593)\ttotal: 1m 17s\tremaining: 4m 4s\n",
      "800:\ttest: 0.9216612\tbest: 0.9245807 (734)\ttotal: 1m 43s\tremaining: 3m 39s\n",
      "Stopped by overfitting detector  (200 iterations wait)\n",
      "\n",
      "bestTest = 0.9245806858\n",
      "bestIteration = 734\n",
      "\n",
      "Shrink model to first 735 iterations.\n",
      "err_cb:  0.92458068578625\n",
      "0:\ttest: 0.7229700\tbest: 0.7229700 (0)\ttotal: 154ms\tremaining: 6m 24s\n",
      "200:\ttest: 0.9037652\tbest: 0.9067563 (164)\ttotal: 27.6s\tremaining: 5m 15s\n",
      "400:\ttest: 0.9077795\tbest: 0.9093680 (298)\ttotal: 55s\tremaining: 4m 47s\n",
      "600:\ttest: 0.9125594\tbest: 0.9132320 (591)\ttotal: 1m 22s\tremaining: 4m 20s\n",
      "800:\ttest: 0.9127097\tbest: 0.9144270 (792)\ttotal: 1m 50s\tremaining: 3m 53s\n",
      "1000:\ttest: 0.9168384\tbest: 0.9168384 (1000)\ttotal: 2m 17s\tremaining: 3m 26s\n",
      "1200:\ttest: 0.9171676\tbest: 0.9181908 (1171)\ttotal: 2m 45s\tremaining: 2m 58s\n",
      "1400:\ttest: 0.9173464\tbest: 0.9185128 (1303)\ttotal: 3m 12s\tremaining: 2m 31s\n",
      "Stopped by overfitting detector  (200 iterations wait)\n",
      "\n",
      "bestTest = 0.9185127941\n",
      "bestIteration = 1303\n",
      "\n",
      "Shrink model to first 1304 iterations.\n",
      "err_cb:  0.9185127940923921\n",
      "0:\ttest: 0.7682395\tbest: 0.7682395 (0)\ttotal: 148ms\tremaining: 6m 10s\n",
      "200:\ttest: 0.9046668\tbest: 0.9046668 (200)\ttotal: 27.1s\tremaining: 5m 9s\n",
      "400:\ttest: 0.9240226\tbest: 0.9240226 (400)\ttotal: 54.1s\tremaining: 4m 43s\n",
      "600:\ttest: 0.9331315\tbest: 0.9334607 (595)\ttotal: 1m 21s\tremaining: 4m 16s\n",
      "800:\ttest: 0.9355931\tbest: 0.9359580 (768)\ttotal: 1m 47s\tremaining: 3m 47s\n",
      "1000:\ttest: 0.9375465\tbest: 0.9381333 (979)\ttotal: 2m 13s\tremaining: 3m 20s\n",
      "1200:\ttest: 0.9399078\tbest: 0.9401797 (1193)\ttotal: 2m 39s\tremaining: 2m 52s\n",
      "Stopped by overfitting detector  (200 iterations wait)\n",
      "\n",
      "bestTest = 0.940179747\n",
      "bestIteration = 1193\n",
      "\n",
      "Shrink model to first 1194 iterations.\n",
      "err_cb:  0.9401797469803652\n",
      "0:\ttest: 0.7754594\tbest: 0.7754594 (0)\ttotal: 154ms\tremaining: 6m 25s\n",
      "200:\ttest: 0.8788067\tbest: 0.8788067 (200)\ttotal: 26.6s\tremaining: 5m 4s\n",
      "400:\ttest: 0.8886241\tbest: 0.8886241 (400)\ttotal: 53.7s\tremaining: 4m 41s\n",
      "600:\ttest: 0.8875794\tbest: 0.8925024 (448)\ttotal: 1m 20s\tremaining: 4m 13s\n",
      "Stopped by overfitting detector  (200 iterations wait)\n",
      "\n",
      "bestTest = 0.8925024329\n",
      "bestIteration = 448\n",
      "\n",
      "Shrink model to first 449 iterations.\n",
      "err_cb:  0.8925024328811038\n",
      "0:\ttest: 0.7467621\tbest: 0.7467621 (0)\ttotal: 131ms\tremaining: 5m 27s\n",
      "200:\ttest: 0.8998154\tbest: 0.8998154 (200)\ttotal: 26.5s\tremaining: 5m 2s\n",
      "400:\ttest: 0.9137758\tbest: 0.9138259 (396)\ttotal: 53.5s\tremaining: 4m 39s\n",
      "600:\ttest: 0.9126739\tbest: 0.9153787 (497)\ttotal: 1m 20s\tremaining: 4m 13s\n",
      "Stopped by overfitting detector  (200 iterations wait)\n",
      "\n",
      "bestTest = 0.9153786708\n",
      "bestIteration = 497\n",
      "\n",
      "Shrink model to first 498 iterations.\n",
      "err_cb:  0.9153786707882534\n",
      "0:\ttest: 0.7696527\tbest: 0.7696527 (0)\ttotal: 127ms\tremaining: 5m 17s\n",
      "200:\ttest: 0.8958011\tbest: 0.8970748 (181)\ttotal: 26.9s\tremaining: 5m 7s\n",
      "400:\ttest: 0.9011749\tbest: 0.9038654 (351)\ttotal: 53.9s\tremaining: 4m 42s\n",
      "600:\ttest: 0.9062339\tbest: 0.9062554 (597)\ttotal: 1m 20s\tremaining: 4m 13s\n",
      "800:\ttest: 0.9108850\tbest: 0.9119583 (757)\ttotal: 1m 46s\tremaining: 3m 46s\n",
      "1000:\ttest: 0.9167883\tbest: 0.9167883 (1000)\ttotal: 2m 13s\tremaining: 3m 20s\n"
     ]
    },
    {
     "name": "stdout",
     "output_type": "stream",
     "text": [
      "1200:\ttest: 0.9175969\tbest: 0.9176971 (1015)\ttotal: 2m 40s\tremaining: 2m 53s\n",
      "1400:\ttest: 0.9177758\tbest: 0.9192784 (1285)\ttotal: 3m 7s\tremaining: 2m 27s\n",
      "1600:\ttest: 0.9242515\tbest: 0.9242515 (1600)\ttotal: 3m 35s\tremaining: 2m\n",
      "1800:\ttest: 0.9252891\tbest: 0.9252891 (1800)\ttotal: 4m 3s\tremaining: 1m 34s\n",
      "2000:\ttest: 0.9247954\tbest: 0.9261692 (1934)\ttotal: 4m 31s\tremaining: 1m 7s\n",
      "2200:\ttest: 0.9278293\tbest: 0.9279438 (2192)\ttotal: 4m 59s\tremaining: 40.6s\n",
      "2400:\ttest: 0.9279867\tbest: 0.9292103 (2338)\ttotal: 5m 27s\tremaining: 13.5s\n",
      "2499:\ttest: 0.9284661\tbest: 0.9292103 (2338)\ttotal: 5m 41s\tremaining: 0us\n",
      "\n",
      "bestTest = 0.9292103154\n",
      "bestIteration = 2338\n",
      "\n",
      "Shrink model to first 2339 iterations.\n",
      "err_cb:  0.9292103154158795\n",
      "0:\ttest: 0.7395493\tbest: 0.7395493 (0)\ttotal: 134ms\tremaining: 5m 34s\n",
      "200:\ttest: 0.8811752\tbest: 0.8818979 (196)\ttotal: 26s\tremaining: 4m 57s\n",
      "400:\ttest: 0.8886456\tbest: 0.8887672 (397)\ttotal: 51.2s\tremaining: 4m 28s\n",
      "600:\ttest: 0.9005023\tbest: 0.9005023 (600)\ttotal: 1m 17s\tremaining: 4m 4s\n",
      "800:\ttest: 0.9030497\tbest: 0.9043162 (758)\ttotal: 1m 43s\tremaining: 3m 39s\n",
      "Stopped by overfitting detector  (200 iterations wait)\n",
      "\n",
      "bestTest = 0.9043162173\n",
      "bestIteration = 758\n",
      "\n",
      "Shrink model to first 759 iterations.\n",
      "err_cb:  0.9043162172992157\n",
      "0:\ttest: 0.7365297\tbest: 0.7365297 (0)\ttotal: 130ms\tremaining: 5m 25s\n",
      "200:\ttest: 0.8774615\tbest: 0.8774615 (200)\ttotal: 26.4s\tremaining: 5m 2s\n",
      "400:\ttest: 0.8948280\tbest: 0.8948280 (400)\ttotal: 52.4s\tremaining: 4m 34s\n",
      "600:\ttest: 0.9032071\tbest: 0.9033788 (593)\ttotal: 1m 18s\tremaining: 4m 7s\n",
      "800:\ttest: 0.9095398\tbest: 0.9096900 (783)\ttotal: 1m 44s\tremaining: 3m 42s\n",
      "Stopped by overfitting detector  (200 iterations wait)\n",
      "\n",
      "bestTest = 0.9096900223\n",
      "bestIteration = 783\n",
      "\n",
      "Shrink model to first 784 iterations.\n",
      "err_cb:  0.9096900223252619\n",
      "0:\ttest: 0.7098324\tbest: 0.7098324 (0)\ttotal: 133ms\tremaining: 5m 33s\n",
      "200:\ttest: 0.9197149\tbest: 0.9198008 (199)\ttotal: 26.5s\tremaining: 5m 3s\n",
      "400:\ttest: 0.9248812\tbest: 0.9256683 (338)\ttotal: 52.9s\tremaining: 4m 37s\n",
      "600:\ttest: 0.9293320\tbest: 0.9298686 (598)\ttotal: 1m 19s\tremaining: 4m 9s\n",
      "800:\ttest: 0.9332174\tbest: 0.9333391 (796)\ttotal: 1m 45s\tremaining: 3m 44s\n",
      "1000:\ttest: 0.9356002\tbest: 0.9357290 (995)\ttotal: 2m 11s\tremaining: 3m 16s\n",
      "1200:\ttest: 0.9388130\tbest: 0.9391136 (1188)\ttotal: 2m 37s\tremaining: 2m 50s\n",
      "1400:\ttest: 0.9408309\tbest: 0.9409454 (1398)\ttotal: 3m 3s\tremaining: 2m 24s\n",
      "Stopped by overfitting detector  (200 iterations wait)\n",
      "\n",
      "bestTest = 0.940945389\n",
      "bestIteration = 1398\n",
      "\n",
      "Shrink model to first 1399 iterations.\n",
      "err_cb:  0.9409453889747553\n",
      "0:\ttest: 0.7166159\tbest: 0.7166159 (0)\ttotal: 147ms\tremaining: 6m 6s\n",
      "200:\ttest: 0.8793792\tbest: 0.8816046 (139)\ttotal: 25.3s\tremaining: 4m 49s\n",
      "400:\ttest: 0.8820339\tbest: 0.8826994 (310)\ttotal: 50.5s\tremaining: 4m 24s\n",
      "600:\ttest: 0.8822843\tbest: 0.8848102 (494)\ttotal: 1m 17s\tremaining: 4m 4s\n",
      "800:\ttest: 0.8836940\tbest: 0.8849963 (654)\ttotal: 1m 43s\tremaining: 3m 40s\n",
      "1000:\ttest: 0.8868639\tbest: 0.8878728 (972)\ttotal: 2m 10s\tremaining: 3m 14s\n",
      "1200:\ttest: 0.8881232\tbest: 0.8897976 (1121)\ttotal: 2m 36s\tremaining: 2m 49s\n",
      "1400:\ttest: 0.8910141\tbest: 0.8915293 (1336)\ttotal: 3m 2s\tremaining: 2m 22s\n",
      "Stopped by overfitting detector  (200 iterations wait)\n",
      "\n",
      "bestTest = 0.8915292804\n",
      "bestIteration = 1336\n",
      "\n",
      "Shrink model to first 1337 iterations.\n",
      "err_cb:  0.8915292804396359\n",
      "0:\ttest: 0.7153243\tbest: 0.7153243 (0)\ttotal: 133ms\tremaining: 5m 32s\n",
      "200:\ttest: 0.8880374\tbest: 0.8882520 (199)\ttotal: 26.2s\tremaining: 4m 59s\n",
      "400:\ttest: 0.9045881\tbest: 0.9052607 (382)\ttotal: 52.7s\tremaining: 4m 35s\n",
      "600:\ttest: 0.9082804\tbest: 0.9089387 (510)\ttotal: 1m 19s\tremaining: 4m 10s\n",
      "Stopped by overfitting detector  (200 iterations wait)\n",
      "\n",
      "bestTest = 0.9089386914\n",
      "bestIteration = 510\n",
      "\n",
      "Shrink model to first 511 iterations.\n",
      "err_cb:  0.9089386913961875\n"
     ]
    }
   ],
   "source": [
    "errCB=[]\n",
    "y_pred_tot_cb=[]\n",
    "from sklearn.model_selection import KFold,StratifiedKFold\n",
    "fold=StratifiedKFold(n_splits=20,shuffle=True,random_state=1994)\n",
    "i=1\n",
    "for train_index, test_index in fold.split(X,y):\n",
    "    X_train, X_test = X.iloc[train_index], X.iloc[test_index]\n",
    "    y_train, y_test = y[train_index], y[test_index]\n",
    "    m=CatBoostClassifier(n_estimators=2500,random_state=1994,eval_metric='AUC',learning_rate=0.05)\n",
    "    m.fit(X_train,y_train,eval_set=[(X_test, y_test)], early_stopping_rounds=200,verbose=200,cat_features=categorical_features_indices)\n",
    "    preds=m.predict_proba(X_test)[:,-1]\n",
    "    print(\"err_cb: \",roc_auc_score(y_test,preds))\n",
    "    errCB.append(roc_auc_score(y_test,preds))\n",
    "    p = m.predict_proba(Xtest)[:,-1]\n",
    "    i=i+1\n",
    "    y_pred_tot_cb.append(p)"
   ]
  },
  {
   "cell_type": "code",
   "execution_count": 32,
   "metadata": {},
   "outputs": [
    {
     "data": {
      "text/plain": [
       "0.9178297598216453"
      ]
     },
     "execution_count": 32,
     "metadata": {},
     "output_type": "execute_result"
    }
   ],
   "source": [
    "np.mean(errCB,0)"
   ]
  },
  {
   "cell_type": "code",
   "execution_count": 256,
   "metadata": {
    "collapsed": true
   },
   "outputs": [],
   "source": [
    "sub = pd.read_csv('C:/Users/shashi.singh/Downloads/sample_submission_Byiv0dS.csv')"
   ]
  },
  {
   "cell_type": "code",
   "execution_count": 257,
   "metadata": {},
   "outputs": [
    {
     "data": {
      "text/html": [
       "<div>\n",
       "<style scoped>\n",
       "    .dataframe tbody tr th:only-of-type {\n",
       "        vertical-align: middle;\n",
       "    }\n",
       "\n",
       "    .dataframe tbody tr th {\n",
       "        vertical-align: top;\n",
       "    }\n",
       "\n",
       "    .dataframe thead th {\n",
       "        text-align: right;\n",
       "    }\n",
       "</style>\n",
       "<table border=\"1\" class=\"dataframe\">\n",
       "  <thead>\n",
       "    <tr style=\"text-align: right;\">\n",
       "      <th></th>\n",
       "      <th>id</th>\n",
       "      <th>redemption_status_x</th>\n",
       "      <th>campaign_id</th>\n",
       "      <th>coupon_id</th>\n",
       "      <th>customer_id</th>\n",
       "      <th>age_range</th>\n",
       "      <th>marital_status</th>\n",
       "      <th>rented</th>\n",
       "      <th>family_size</th>\n",
       "      <th>no_of_children</th>\n",
       "      <th>...</th>\n",
       "      <th>(category, min)</th>\n",
       "      <th>(category, mean)</th>\n",
       "      <th>(category, max)</th>\n",
       "      <th>(item_price_y, min)</th>\n",
       "      <th>(item_price_y, mean)</th>\n",
       "      <th>(item_price_y, max)</th>\n",
       "      <th>(item_id_y, nunique)</th>\n",
       "      <th>(coupon_redeem, )</th>\n",
       "      <th>(campaign_type, )</th>\n",
       "      <th>redemption_status_y</th>\n",
       "    </tr>\n",
       "  </thead>\n",
       "  <tbody>\n",
       "    <tr>\n",
       "      <td>0</td>\n",
       "      <td>3</td>\n",
       "      <td>0</td>\n",
       "      <td>22</td>\n",
       "      <td>869</td>\n",
       "      <td>967</td>\n",
       "      <td>36-45</td>\n",
       "      <td>Single</td>\n",
       "      <td>0</td>\n",
       "      <td>1</td>\n",
       "      <td>0</td>\n",
       "      <td>...</td>\n",
       "      <td>0</td>\n",
       "      <td>0</td>\n",
       "      <td>0</td>\n",
       "      <td>0</td>\n",
       "      <td>117</td>\n",
       "      <td>1276</td>\n",
       "      <td>658</td>\n",
       "      <td>81.0</td>\n",
       "      <td>X</td>\n",
       "      <td>0.223376</td>\n",
       "    </tr>\n",
       "    <tr>\n",
       "      <td>1</td>\n",
       "      <td>4</td>\n",
       "      <td>0</td>\n",
       "      <td>20</td>\n",
       "      <td>389</td>\n",
       "      <td>1566</td>\n",
       "      <td>26-35</td>\n",
       "      <td>Married</td>\n",
       "      <td>0</td>\n",
       "      <td>2</td>\n",
       "      <td>0</td>\n",
       "      <td>...</td>\n",
       "      <td>3</td>\n",
       "      <td>3</td>\n",
       "      <td>3</td>\n",
       "      <td>0</td>\n",
       "      <td>96</td>\n",
       "      <td>1780</td>\n",
       "      <td>1214</td>\n",
       "      <td>31.0</td>\n",
       "      <td>Y</td>\n",
       "      <td>0.003504</td>\n",
       "    </tr>\n",
       "    <tr>\n",
       "      <td>2</td>\n",
       "      <td>5</td>\n",
       "      <td>0</td>\n",
       "      <td>22</td>\n",
       "      <td>981</td>\n",
       "      <td>510</td>\n",
       "      <td>26-35</td>\n",
       "      <td>Married</td>\n",
       "      <td>0</td>\n",
       "      <td>2</td>\n",
       "      <td>0</td>\n",
       "      <td>...</td>\n",
       "      <td>0</td>\n",
       "      <td>0</td>\n",
       "      <td>0</td>\n",
       "      <td>0</td>\n",
       "      <td>86</td>\n",
       "      <td>1673</td>\n",
       "      <td>1019</td>\n",
       "      <td>56.0</td>\n",
       "      <td>X</td>\n",
       "      <td>0.066947</td>\n",
       "    </tr>\n",
       "    <tr>\n",
       "      <td>3</td>\n",
       "      <td>8</td>\n",
       "      <td>0</td>\n",
       "      <td>25</td>\n",
       "      <td>1069</td>\n",
       "      <td>361</td>\n",
       "      <td>18-25</td>\n",
       "      <td>Single</td>\n",
       "      <td>0</td>\n",
       "      <td>1</td>\n",
       "      <td>0</td>\n",
       "      <td>...</td>\n",
       "      <td>0</td>\n",
       "      <td>0</td>\n",
       "      <td>0</td>\n",
       "      <td>0</td>\n",
       "      <td>88</td>\n",
       "      <td>1638</td>\n",
       "      <td>323</td>\n",
       "      <td>0.0</td>\n",
       "      <td>Y</td>\n",
       "      <td>0.003074</td>\n",
       "    </tr>\n",
       "    <tr>\n",
       "      <td>4</td>\n",
       "      <td>10</td>\n",
       "      <td>0</td>\n",
       "      <td>17</td>\n",
       "      <td>498</td>\n",
       "      <td>811</td>\n",
       "      <td>46-55</td>\n",
       "      <td>Married</td>\n",
       "      <td>0</td>\n",
       "      <td>2</td>\n",
       "      <td>0</td>\n",
       "      <td>...</td>\n",
       "      <td>0</td>\n",
       "      <td>0</td>\n",
       "      <td>0</td>\n",
       "      <td>6</td>\n",
       "      <td>85</td>\n",
       "      <td>1281</td>\n",
       "      <td>720</td>\n",
       "      <td>3.0</td>\n",
       "      <td>Y</td>\n",
       "      <td>0.001658</td>\n",
       "    </tr>\n",
       "  </tbody>\n",
       "</table>\n",
       "<p>5 rows × 31 columns</p>\n",
       "</div>"
      ],
      "text/plain": [
       "   id  redemption_status_x campaign_id  coupon_id customer_id age_range  \\\n",
       "0   3                    0          22        869         967     36-45   \n",
       "1   4                    0          20        389        1566     26-35   \n",
       "2   5                    0          22        981         510     26-35   \n",
       "3   8                    0          25       1069         361     18-25   \n",
       "4  10                    0          17        498         811     46-55   \n",
       "\n",
       "  marital_status rented family_size no_of_children  ... (category, min)  \\\n",
       "0         Single      0           1              0  ...               0   \n",
       "1        Married      0           2              0  ...               3   \n",
       "2        Married      0           2              0  ...               0   \n",
       "3         Single      0           1              0  ...               0   \n",
       "4        Married      0           2              0  ...               0   \n",
       "\n",
       "   (category, mean)  (category, max)  (item_price_y, min)  \\\n",
       "0                 0                0                    0   \n",
       "1                 3                3                    0   \n",
       "2                 0                0                    0   \n",
       "3                 0                0                    0   \n",
       "4                 0                0                    6   \n",
       "\n",
       "   (item_price_y, mean)  (item_price_y, max)  (item_id_y, nunique)  \\\n",
       "0                   117                 1276                   658   \n",
       "1                    96                 1780                  1214   \n",
       "2                    86                 1673                  1019   \n",
       "3                    88                 1638                   323   \n",
       "4                    85                 1281                   720   \n",
       "\n",
       "   (coupon_redeem, )  (campaign_type, )  redemption_status_y  \n",
       "0               81.0                  X             0.223376  \n",
       "1               31.0                  Y             0.003504  \n",
       "2               56.0                  X             0.066947  \n",
       "3                0.0                  Y             0.003074  \n",
       "4                3.0                  Y             0.001658  \n",
       "\n",
       "[5 rows x 31 columns]"
      ]
     },
     "execution_count": 257,
     "metadata": {},
     "output_type": "execute_result"
    }
   ],
   "source": [
    "sub['redemption_status']=np.mean(y_pred_tot_cb,0)\n",
    "sub.head()"
   ]
  },
  {
   "cell_type": "code",
   "execution_count": 258,
   "metadata": {},
   "outputs": [
    {
     "data": {
      "text/plain": [
       "(50226, 31)"
      ]
     },
     "execution_count": 258,
     "metadata": {},
     "output_type": "execute_result"
    }
   ],
   "source": [
    "sub.to_csv('C:/Users/shashi.singh/Downloads/sample_6th_pivot.csv',index=False)\n",
    "sub.shape"
   ]
  },
  {
   "cell_type": "code",
   "execution_count": 821,
   "metadata": {
    "collapsed": true
   },
   "outputs": [],
   "source": [
    "sub['redemption_status']=np.mean(y_pred_tot_cb,0)*0.65 + np.mean(y_pred_tot,0)*0.35"
   ]
  },
  {
   "cell_type": "raw",
   "metadata": {},
   "source": []
  },
  {
   "cell_type": "code",
   "execution_count": 822,
   "metadata": {},
   "outputs": [
    {
     "data": {
      "text/plain": [
       "(50226, 2)"
      ]
     },
     "execution_count": 822,
     "metadata": {},
     "output_type": "execute_result"
    }
   ],
   "source": [
    "sub.to_csv('C:/Users/shashi.singh/Downloads/sample_combined_second.csv',index=False)\n",
    "sub.shape"
   ]
  },
  {
   "cell_type": "code",
   "execution_count": null,
   "metadata": {
    "collapsed": true
   },
   "outputs": [],
   "source": []
  }
 ],
 "metadata": {
  "kernelspec": {
   "display_name": "Python 3",
   "language": "python",
   "name": "python3"
  },
  "language_info": {
   "codemirror_mode": {
    "name": "ipython",
    "version": 3
   },
   "file_extension": ".py",
   "mimetype": "text/x-python",
   "name": "python",
   "nbconvert_exporter": "python",
   "pygments_lexer": "ipython3",
   "version": "3.6.3"
  }
 },
 "nbformat": 4,
 "nbformat_minor": 2
}
